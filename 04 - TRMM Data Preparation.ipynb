{
 "cells": [
  {
   "cell_type": "markdown",
   "metadata": {
    "lang": "es"
   },
   "source": [
    "# TRMM Preparación de datos"
   ]
  },
  {
   "cell_type": "code",
   "execution_count": 1,
   "metadata": {},
   "outputs": [],
   "source": [
    "% matplotlib inline\n",
    "import glob\n",
    "import numpy as np\n",
    "import pandas as pd\n",
    "import xarray as xr\n",
    "import cartopy\n",
    "import cartopy.crs as ccrs\n",
    "import matplotlib.pyplot as plt"
   ]
  },
  {
   "cell_type": "markdown",
   "metadata": {
    "lang": "es"
   },
   "source": [
    "## Leer varios archivos y combinarlos en un solo conjunto de datos"
   ]
  },
  {
   "cell_type": "code",
   "execution_count": 8,
   "metadata": {},
   "outputs": [
    {
     "data": {
      "text/plain": [
       "242"
      ]
     },
     "execution_count": 8,
     "metadata": {},
     "output_type": "execute_result"
    }
   ],
   "source": [
    "files = glob.glob(\"./data/*.nc\")\n",
    "len(files)\n",
    "#files[:10]"
   ]
  },
  {
   "cell_type": "markdown",
   "metadata": {
    "lang": "es"
   },
   "source": [
    "### Usar / escribir algunas funciones auxiliares"
   ]
  },
  {
   "cell_type": "code",
   "execution_count": 6,
   "metadata": {},
   "outputs": [],
   "source": [
    "# %load src/extract_timestep.py\n",
    "def extract_timestep(ds):\n",
    "    import re\n",
    "    import datetime\n",
    "    import numpy as np\n",
    "    file_header = ds.attrs[\"FileHeader\"]\n",
    "    text = file_header.split(\";\")[5]\n",
    "    match = re.search(r'\\d{4}-\\d{2}-\\d{2}', text)\n",
    "    date = datetime.datetime.strptime(match.group(), '%Y-%m-%d').date()\n",
    "    return date"
   ]
  },
  {
   "cell_type": "code",
   "execution_count": 10,
   "metadata": {},
   "outputs": [],
   "source": [
    "def read_netcdfs(paths):    \n",
    "    datasets = [xr.open_dataset(p) for p in paths]\n",
    "    for e, ds in enumerate(datasets):\n",
    "        datasets[e] = ds.assign(time=np.datetime64(extract_timestep(ds)))\n",
    "    combined = xr.concat(datasets, dim=\"time\")\n",
    "    return combined"
   ]
  },
  {
   "cell_type": "markdown",
   "metadata": {
    "lang": "es"
   },
   "source": [
    "### Cargar los archivos"
   ]
  },
  {
   "cell_type": "code",
   "execution_count": 11,
   "metadata": {},
   "outputs": [],
   "source": [
    "file_paths = glob.glob(\"./data/*.nc\")\n",
    "ds = read_netcdfs(file_paths)"
   ]
  },
  {
   "cell_type": "code",
   "execution_count": 12,
   "metadata": {},
   "outputs": [
    {
     "data": {
      "text/plain": [
       "<xarray.Dataset>\n",
       "Dimensions:                 (nlat: 85, nlon: 63, time: 242)\n",
       "Coordinates:\n",
       "  * nlon                    (nlon) float32 -82.375 -82.125 -81.875 -81.625 ...\n",
       "  * nlat                    (nlat) float32 -20.125 -19.875 -19.625 -19.375 ...\n",
       "  * time                    (time) datetime64[ns] 1998-01-31 1998-02-28 ...\n",
       "Data variables:\n",
       "    precipitation           (time, nlat, nlon) float32 0.00064516126 ...\n",
       "    relativeError           (time, nlat, nlon) float32 0.021309756 0.0193667 ...\n",
       "    gaugeRelativeWeighting  (time, nlat, nlon) int32 0 0 0 0 0 0 0 0 0 0 0 0 ...\n",
       "Attributes:\n",
       "    Grid.GridHeader:  BinMethod=ARITHMETIC_MEAN;\\nRegistration=CENTER;\\nLatit...\n",
       "    FileHeader:       AlgorithmID=3B43;\\nAlgorithmVersion=3B43_7.0;\\nFileName...\n",
       "    FileInfo:         DataFormatVersion=m;\\nTKCodeBuildVersion=1;\\nMetadataVe...\n",
       "    GridHeader:       BinMethod=ARITHMETIC_MEAN;\\nRegistration=CENTER;\\nLatit...\n",
       "    history:          2018-05-14 14:20:38 GMT Hyrax-1.13.4 https://disc2.gesd..."
      ]
     },
     "execution_count": 12,
     "metadata": {},
     "output_type": "execute_result"
    }
   ],
   "source": [
    "ds"
   ]
  },
  {
   "cell_type": "markdown",
   "metadata": {},
   "source": [
    "<img src=\"_img/xr-dataset-diagram.png\" width=90%/>\n",
    "\n",
    "Source: [xarray docs](http://xarray.pydata.org/en/stable/data-structures.html)"
   ]
  },
  {
   "cell_type": "code",
   "execution_count": 19,
   "metadata": {},
   "outputs": [
    {
     "data": {
      "text/plain": [
       "<matplotlib.collections.QuadMesh at 0x10358dd8>"
      ]
     },
     "execution_count": 19,
     "metadata": {},
     "output_type": "execute_result"
    },
    {
     "data": {
      "image/png": "[encoded data removed]",
      "text/plain": [
       "<Figure size 432x288 with 2 Axes>"
      ]
     },
     "metadata": {},
     "output_type": "display_data"
    }
   ],
   "source": [
    "ds.sel(time=ds.time[3])[\"precipitation\"].plot()"
   ]
  },
  {
   "cell_type": "markdown",
   "metadata": {
    "lang": "es"
   },
   "source": [
    "## Calcular mm por mes"
   ]
  },
  {
   "cell_type": "code",
   "execution_count": 20,
   "metadata": {},
   "outputs": [],
   "source": [
    "def compute_mm_from_mm_per_hour(ds, days):\n",
    "    return ds * 24 *  days\n",
    "\n",
    "def process_data(ds):\n",
    "    ds_temp = ds.copy(deep=True)\n",
    "    for e, timestamp in enumerate(ds.coords[\"time\"]):\n",
    "        # get days a month\n",
    "        days_a_month = pd.to_datetime(timestamp.values).day\n",
    "        # subset data\n",
    "        _ = ds_temp.sel(time=timestamp.values)[\"precipitation\"]\n",
    "        # compute mm/month\n",
    "        prec_mm_per_month = compute_mm_from_mm_per_hour(_, days_a_month)\n",
    "        # mask values lower than 1 \n",
    "        #prec_mm_per_month = prec_mm_per_month.where(prec_mm_per_month >= 1)\n",
    "        # reassign new values\n",
    "        ds_temp[\"precipitation\"][e] = prec_mm_per_month  \n",
    "                \n",
    "    return ds_temp "
   ]
  },
  {
   "cell_type": "code",
   "execution_count": 21,
   "metadata": {},
   "outputs": [
    {
     "data": {
      "text/plain": [
       "<xarray.Dataset>\n",
       "Dimensions:                 (nlat: 85, nlon: 63, time: 242)\n",
       "Coordinates:\n",
       "  * nlon                    (nlon) float32 -82.375 -82.125 -81.875 -81.625 ...\n",
       "  * nlat                    (nlat) float32 -20.125 -19.875 -19.625 -19.375 ...\n",
       "  * time                    (time) datetime64[ns] 1998-01-31 1998-02-28 ...\n",
       "Data variables:\n",
       "    precipitation           (time, nlat, nlon) float32 0.00064516126 ...\n",
       "    relativeError           (time, nlat, nlon) float32 0.021309756 0.0193667 ...\n",
       "    gaugeRelativeWeighting  (time, nlat, nlon) int32 0 0 0 0 0 0 0 0 0 0 0 0 ...\n",
       "Attributes:\n",
       "    Grid.GridHeader:  BinMethod=ARITHMETIC_MEAN;\\nRegistration=CENTER;\\nLatit...\n",
       "    FileHeader:       AlgorithmID=3B43;\\nAlgorithmVersion=3B43_7.0;\\nFileName...\n",
       "    FileInfo:         DataFormatVersion=m;\\nTKCodeBuildVersion=1;\\nMetadataVe...\n",
       "    GridHeader:       BinMethod=ARITHMETIC_MEAN;\\nRegistration=CENTER;\\nLatit...\n",
       "    history:          2018-05-14 14:20:38 GMT Hyrax-1.13.4 https://disc2.gesd..."
      ]
     },
     "execution_count": 21,
     "metadata": {},
     "output_type": "execute_result"
    }
   ],
   "source": [
    "ds"
   ]
  },
  {
   "cell_type": "code",
   "execution_count": 22,
   "metadata": {},
   "outputs": [
    {
     "data": {
      "text/plain": [
       "<xarray.Dataset>\n",
       "Dimensions:                 (nlat: 85, nlon: 63, time: 242)\n",
       "Coordinates:\n",
       "  * nlon                    (nlon) float32 -82.375 -82.125 -81.875 -81.625 ...\n",
       "  * nlat                    (nlat) float32 -20.125 -19.875 -19.625 -19.375 ...\n",
       "  * time                    (time) datetime64[ns] 1998-01-31 1998-02-28 ...\n",
       "Data variables:\n",
       "    precipitation           (time, nlat, nlon) float32 0.48 0.03 0.12 ...\n",
       "    relativeError           (time, nlat, nlon) float32 0.021309756 0.0193667 ...\n",
       "    gaugeRelativeWeighting  (time, nlat, nlon) int32 0 0 0 0 0 0 0 0 0 0 0 0 ...\n",
       "Attributes:\n",
       "    Grid.GridHeader:  BinMethod=ARITHMETIC_MEAN;\\nRegistration=CENTER;\\nLatit...\n",
       "    FileHeader:       AlgorithmID=3B43;\\nAlgorithmVersion=3B43_7.0;\\nFileName...\n",
       "    FileInfo:         DataFormatVersion=m;\\nTKCodeBuildVersion=1;\\nMetadataVe...\n",
       "    GridHeader:       BinMethod=ARITHMETIC_MEAN;\\nRegistration=CENTER;\\nLatit...\n",
       "    history:          2018-05-14 14:20:38 GMT Hyrax-1.13.4 https://disc2.gesd..."
      ]
     },
     "execution_count": 22,
     "metadata": {},
     "output_type": "execute_result"
    }
   ],
   "source": [
    "ds_processed = process_data(ds)  \n",
    "ds_processed"
   ]
  },
  {
   "cell_type": "code",
   "execution_count": 27,
   "metadata": {},
   "outputs": [
    {
     "data": {
      "text/plain": [
       "<matplotlib.collections.QuadMesh at 0x1481f358>"
      ]
     },
     "execution_count": 27,
     "metadata": {},
     "output_type": "execute_result"
    },
    {
     "data": {
      "image/png": "[encoded data removed]",
      "text/plain": [
       "<Figure size 432x288 with 2 Axes>"
      ]
     },
     "metadata": {},
     "output_type": "display_data"
    }
   ],
   "source": [
    "ds_processed.sel(time=ds_processed.time[8])[\"precipitation\"].plot()"
   ]
  },
  {
   "cell_type": "markdown",
   "metadata": {
    "lang": "es"
   },
   "source": [
    "## Guardar el objeto en el disco como archivo `.nc` ([netcdf](https://en.wikipedia.org/wiki/NetCDF))"
   ]
  },
  {
   "cell_type": "code",
   "execution_count": 28,
   "metadata": {},
   "outputs": [],
   "source": [
    "ds_processed.to_netcdf(\"./data/processed/peru.nc\")"
   ]
  }
 ],
 "metadata": {
  "kernelspec": {
   "display_name": "Python 3",
   "language": "python",
   "name": "python3"
  },
  "language_info": {
   "codemirror_mode": {
    "name": "ipython",
    "version": 3
   },
   "file_extension": ".py",
   "mimetype": "text/x-python",
   "name": "python",
   "nbconvert_exporter": "python",
   "pygments_lexer": "ipython3",
   "version": "3.6.5"
  },
  "nbTranslate": {
   "displayLangs": [
    "so",
    "es"
   ],
   "hotkey": "alt-t",
   "langInMainMenu": true,
   "sourceLang": "en",
   "targetLang": "es",
   "useGoogleTranslate": true
  }
 },
 "nbformat": 4,
 "nbformat_minor": 2
}
