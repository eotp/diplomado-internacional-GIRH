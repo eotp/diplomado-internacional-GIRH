{
 "cells": [
  {
   "cell_type": "code",
   "execution_count": null,
   "metadata": {},
   "outputs": [],
   "source": [
    "%matplotlib inline\n",
    "import glob\n",
    "import numpy as np\n",
    "import pandas as pd\n",
    "import xarray as xr\n",
    "import matplotlib.pyplot as plt\n",
    "import cartopy\n",
    "import cartopy.crs as ccrs"
   ]
  },
  {
   "cell_type": "markdown",
   "metadata": {
    "lang": "es"
   },
   "source": [
    "# Visualización"
   ]
  },
  {
   "cell_type": "markdown",
   "metadata": {},
   "source": [
    "## ONI"
   ]
  },
  {
   "cell_type": "code",
   "execution_count": null,
   "metadata": {},
   "outputs": [],
   "source": [
    "# %load src/oni_plot.py\n",
    "def plot_oni(df, min_max = None, vline=None, ax=None):\n",
    "    \n",
    "    import pandas as pd\n",
    "    import matplotlib.pyplot as plt\n",
    "    \n",
    "    if ax is None:\n",
    "        fig, ax = plt.subplots(figsize=(13,4))\n",
    "    \n",
    "    oni_melted = pd.melt(df, id_vars=\"0\", value_name=\"ONI\", var_name=\"Month\")\n",
    "    oni_melted[\"Date\"] = oni_melted.apply(lambda x: pd.to_datetime(str(x[0]) +\"-\"+ str(x[\"Month\"])).to_period(\"M\"), axis=1)\n",
    "    oni = oni_melted[[\"Date\", \"ONI\"]].sort_values(\"Date\").reset_index(drop=True).set_index(\"Date\")\n",
    "    if min_max is not None:\n",
    "        oni = oni[str(min_max[0]):str(min_max[1])]        \n",
    "\n",
    "    oni.plot(ax=ax, color=\"k\")\n",
    "    ax.fill_between(oni.index, 0.5, oni.ONI, where=oni.ONI >= 0.5,color=\"red\", label=\"El Nino\", interpolate=True)\n",
    "    ax.fill_between(oni.index, -0.5, oni.ONI, where=oni.ONI <= -0.5,color=\"blue\", label=\"La Nina\", interpolate=True)\n",
    "    ax.grid()\n",
    "    ax.legend()\n",
    "    ax.set_ylim(-3,3)\n",
    "    ax.set_title(\"Ocean Nino Index (ONI)\", size=14)\n",
    "    \n",
    "    if vline is not None:\n",
    "        ax.axvline(str(vline), color=\"green\", linestyle=\"dashed\");\n",
    "        "
   ]
  },
  {
   "cell_type": "code",
   "execution_count": null,
   "metadata": {},
   "outputs": [],
   "source": [
    "oni = pd.read_csv(\"./data/oni.txt\")\n",
    "#fig, ax = plt.subplots(figsize=(13,4))\n",
    "plot_oni(oni, min_max = [1995, 2002], vline=\"1999-5\")"
   ]
  },
  {
   "cell_type": "markdown",
   "metadata": {
    "lang": "es"
   },
   "source": [
    "## TRMM anomalía mensual"
   ]
  },
  {
   "cell_type": "code",
   "execution_count": null,
   "metadata": {},
   "outputs": [],
   "source": [
    "ds = xr.open_dataset(\"./data/processed/peru_anomaly.nc\")\n",
    "ds"
   ]
  },
  {
   "cell_type": "code",
   "execution_count": null,
   "metadata": {},
   "outputs": [],
   "source": [
    "# %load src/plot_map.py\n",
    "def plot_map(ds, values=None, contour=False, \n",
    "             max_value=350, min_value=-350, title=None, ax=None, **kwargs):\n",
    "    levels = np.arange(min_value, max_value+50, 50)\n",
    "    \n",
    "    if ax is None:\n",
    "        ax = plt.axes(projection=ccrs.Orthographic(-70,-15))\n",
    "    \n",
    "    p = ds[\"precipitation\"].plot.contourf(ax=ax, transform=ccrs.PlateCarree(), \n",
    "                         vmin=min_value, vmax=max_value, \n",
    "                         center=0, levels=levels, extend=\"both\", cmap=\"RdBu\",  \n",
    "                                          cbar_kwargs={'label': \"Precipitación en mm\"})\n",
    "    ax.coastlines(color=\"red\")\n",
    "    ax.add_feature(cartopy.feature.BORDERS, edgecolor=\"red\")\n",
    "    ax.gridlines()\n",
    "    ax.set_extent([-82, -68.5, 0.5, -18]); #x0, x1, y0, y1 \n",
    "    if title is None:\n",
    "        title =\"\"\n",
    "    elif isinstance(title, str):\n",
    "        pass\n",
    "    else:\n",
    "        title = pd.to_datetime(ds.time.values).strftime(\"%Y-%m\")\n",
    "    ax.set_title(title, size=16)"
   ]
  },
  {
   "cell_type": "code",
   "execution_count": null,
   "metadata": {},
   "outputs": [],
   "source": [
    "fig = plt.figure(figsize=(8,8))\n",
    "_ = plot_map(ds.sel(time=ds.time[110]))"
   ]
  },
  {
   "cell_type": "markdown",
   "metadata": {
    "lang": "es"
   },
   "source": [
    "## Anotación"
   ]
  },
  {
   "cell_type": "code",
   "execution_count": null,
   "metadata": {},
   "outputs": [],
   "source": [
    "fig, ax = plt.subplots()\n",
    "    \n",
    "ax.axis(\"off\")\n",
    "ax.annotate(xy=(0.01,0.95) ,s=\"Anomalía mensual de la precipitación en Perú\\npor el tiempo 1998 a 2017\", size=18)\n",
    "ax.annotate(xy=(0.01,0.65) ,s=\"2014-4\", size=18)\n",
    "ax.annotate(xy=(0.01,0.15) ,s=\"Recursos:\\n - Tropical Rainfall Measuring Mission (TRMM, TMPA/3B43)\\n    Rainfall Estimate L3 1 month 0.25 degree x 0.25 degree V7\", size=10)\n",
    "ax.annotate(xy=(0.01,0.05) ,s=\" - Ocean Nino Index (ONI), NOAA\", size=10);"
   ]
  },
  {
   "cell_type": "markdown",
   "metadata": {
    "lang": "es"
   },
   "source": [
    "### Refactorización"
   ]
  },
  {
   "cell_type": "code",
   "execution_count": null,
   "metadata": {},
   "outputs": [],
   "source": [
    "# %load src/annotation.py\n",
    "def annotation(ax=None, date=\"2014-4\"):\n",
    "    import matplotlib.pyplot as plt\n",
    "    if ax is None:\n",
    "        fig, ax = plt.subplots()\n",
    "    \n",
    "    ax.axis(\"off\")\n",
    "    ax.annotate(xy=(0.01,0.95) ,s=\"Anomalía mensual de la precipitación en Perú\\npor el tiempo 1998 a 2017\", size=18)\n",
    "    ax.annotate(xy=(0.01,0.65) ,s=date, size=18)\n",
    "    ax.annotate(xy=(0.01,0.15) ,s=\"Recursos:\\n - Tropical Rainfall Measuring Mission (TRMM, TMPA/3B43)\\n    Rainfall Estimate L3 1 month 0.25 degree x 0.25 degree V7\", size=10)\n",
    "    ax.annotate(xy=(0.01,0.05) ,s=\" - Ocean Nino Index (ONI), NOAA\", size=10)\n",
    "\n",
    "annotation()"
   ]
  },
  {
   "cell_type": "markdown",
   "metadata": {
    "lang": "es"
   },
   "source": [
    "## Trazado\n",
    "\n",
    "[Matplotlib GridSpec](https://matplotlib.org/users/gridspec.html)"
   ]
  },
  {
   "cell_type": "code",
   "execution_count": null,
   "metadata": {},
   "outputs": [],
   "source": [
    "import matplotlib.gridspec as gridspec\n",
    "plt.figure(figsize=(13, 7))\n",
    "G = gridspec.GridSpec(3, 4)\n",
    "ax0 = plt.subplot(G[0, :-2])\n",
    "ax1 = plt.subplot(G[1:3, :-2])\n",
    "ax2 = plt.subplot(G[:3, 2:],projection=ccrs.Orthographic(-70,-15))\n",
    "plot_oni(oni, min_max = [2005, 2015], vline=\"2014-2\", ax=ax1)\n",
    "plot_map(ds.sel(time=ds.time[110]), ax=ax2, title=\"Anomalía mensual\")\n",
    "annotation(ax=ax0)\n",
    "plt.tight_layout()"
   ]
  },
  {
   "cell_type": "markdown",
   "metadata": {
    "lang": "es"
   },
   "source": [
    "### Refactorización"
   ]
  },
  {
   "cell_type": "code",
   "execution_count": null,
   "metadata": {},
   "outputs": [],
   "source": [
    "# %load src/final_plot.py\n",
    "def final_plot(ds, min_max=[\"1997-10\", \"2018-3\"]):\n",
    "    import matplotlib.pyplot as plt\n",
    "    import matplotlib.gridspec as gridspec\n",
    "    from matplotlib import rcParams\n",
    "    rcParams['font.family'] = 'sans-serif'\n",
    "    rcParams['font.sans-serif'] = ['Arial']\n",
    "    \n",
    "    date = pd.to_datetime(ds.time.values).strftime(\"%Y-%m\")\n",
    "    \n",
    "    plt.figure(figsize=(13, 7))\n",
    "    G = gridspec.GridSpec(3, 4)\n",
    "    ax0 = plt.subplot(G[0, :-2])\n",
    "    ax1 = plt.subplot(G[1:3, :-2])\n",
    "    ax2 = plt.subplot(G[:3, 2:],projection=ccrs.Orthographic(-70,-15))\n",
    "    \n",
    "    annotation(ax=ax0, date=date)\n",
    "    plot_oni(oni, min_max=min_max, vline=date, ax=ax1)\n",
    "    plot_map(ds, ax=ax2, title=\"Anomalía mensual ({})\".format(date))    \n",
    "    plt.tight_layout()"
   ]
  },
  {
   "cell_type": "code",
   "execution_count": null,
   "metadata": {},
   "outputs": [],
   "source": [
    "final_plot(ds=ds.sel(time=ds.time[100]))"
   ]
  },
  {
   "cell_type": "markdown",
   "metadata": {
    "lang": "es"
   },
   "source": [
    "### Almacenar los datos en el disco"
   ]
  },
  {
   "cell_type": "code",
   "execution_count": null,
   "metadata": {},
   "outputs": [],
   "source": [
    "def save_figures(ds, dpi=150):\n",
    "    print(\"Processing ...\\n\")\n",
    "    for e, _ in enumerate(ds.time):    \n",
    "        if e%25==0:\n",
    "            print(\"{} out from {} ...\".format(e, len(ds.time)))\n",
    "        final_plot(ds=ds.sel(time=ds.time[e]))\n",
    "        date_title = pd.to_datetime(ds.time[e].values).strftime(\"%Y-%m\") \n",
    "        plt.savefig(\"./figures/{}.png\".format(date_title), bbox_inches=\"tight\", dpi=dpi)\n",
    "        plt.close()\n",
    "    print(\"Done!\")"
   ]
  },
  {
   "cell_type": "code",
   "execution_count": null,
   "metadata": {},
   "outputs": [],
   "source": [
    "save = True\n",
    "if save:\n",
    "    save_figures(ds, dpi=75)   "
   ]
  },
  {
   "cell_type": "markdown",
   "metadata": {
    "lang": "es"
   },
   "source": [
    "### Cargar datos del disco y hacer una animación"
   ]
  },
  {
   "cell_type": "code",
   "execution_count": null,
   "metadata": {},
   "outputs": [],
   "source": [
    "import imageio\n",
    "file_list = sorted(glob.glob(\"./figures/*.png\"))\n",
    "\n",
    "with imageio.get_writer('./annimation/monthly_rainfall.gif', mode='I', duration=0.5) as writer:\n",
    "    print(\"Processing ...\\n\")\n",
    "    for e, filename in enumerate(file_list):\n",
    "        if e%25==0:\n",
    "            print(\"{} out from {} ...\".format(e, len(ds.time)))\n",
    "        image = imageio.imread(filename)\n",
    "        writer.append_data(image)\n",
    "    print(\"Done!\")"
   ]
  }
 ],
 "metadata": {
  "kernelspec": {
   "display_name": "Python 3",
   "language": "python",
   "name": "python3"
  },
  "language_info": {
   "codemirror_mode": {
    "name": "ipython",
    "version": 3
   },
   "file_extension": ".py",
   "mimetype": "text/x-python",
   "name": "python",
   "nbconvert_exporter": "python",
   "pygments_lexer": "ipython3",
   "version": "3.6.5"
  },
  "nbTranslate": {
   "displayLangs": [
    "es"
   ],
   "hotkey": "alt-t",
   "langInMainMenu": true,
   "sourceLang": "en",
   "targetLang": "es",
   "useGoogleTranslate": true
  }
 },
 "nbformat": 4,
 "nbformat_minor": 2
}
