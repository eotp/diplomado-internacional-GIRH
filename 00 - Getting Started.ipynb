{
 "cells": [
  {
   "cell_type": "markdown",
   "metadata": {},
   "source": [
    "# DIPLOMADO INTERNACIONAL EN GESTIÓN INTEGRADA DE RECURSOS HÍDRICOS\n",
    "\n",
    "# MÓDULO IV. PLANIFICACIÓN DE LA GIRH \n",
    "\n",
    "## Metodología para análisis de anomalías mensuales de precipitación usando Python\n",
    "\n",
    "***"
   ]
  },
  {
   "cell_type": "markdown",
   "metadata": {
    "lang": "es"
   },
   "source": [
    "## Contenido\n",
    "\n",
    "\n",
    "### Parte I: Introducción\n",
    "\n",
    "### Parte II: Índice de Ocean Niño (Ocean Niño Index)\n",
    "\n",
    "### Parte III: Datos de la Misión de medición de precipitación tropical (Tropical Rainfall Measuring Mission, TRMM)\n",
    "\n",
    "### Parte IV: Preparación de datos TRMM\n",
    "\n",
    "### Parte V: Anomalía mensual de precipitaciones\n",
    "\n",
    "### Parte VI: Visualización\n",
    "\n",
    "** *"
   ]
  },
  {
   "cell_type": "markdown",
   "metadata": {
    "lang": "es"
   },
   "source": [
    "## Procesamiento de datos"
   ]
  },
  {
   "cell_type": "markdown",
   "metadata": {},
   "source": [
    "* #### Python 3.6 ([Jupyter Notebooks](http://jupyter.org/),  [numpy](http://www.numpy.org/), [pandas](https://pandas.pydata.org/), [xarray](http://xarray.pydata.org/en/stable/) and [matplotlib](https://matplotlib.org/))\n",
    "\n",
    "<img src=\"_img/python_stack.png\" width=90%/>"
   ]
  },
  {
   "cell_type": "markdown",
   "metadata": {},
   "source": [
    "*** "
   ]
  },
  {
   "cell_type": "markdown",
   "metadata": {
    "lang": "es"
   },
   "source": [
    "# Repositorio  en línea en internet \n",
    "\n",
    "[![Binder](https://mybinder.org/badge.svg)]()\n",
    "\n",
    "\n",
    "Para volver a ejecutar el análisis, descargue los materiales del [repositorio en línea](https://github.com/eotp/diplomado-internacional-GIRH).\n",
    "\n",
    "Le recomendamos utilizar el administrador de paquetes [conda](https://conda.io/docs/). Una vez instalado, cree un entorno e instale todas las dependencias necesarias en su máquina escribiendo\n",
    "\n",
    "`conda env create -f environment.yml`\n",
    "\n",
    "en tu consola. Activas tu nuevo entorno tecleando\n",
    "\n",
    "`source activate diplomados` (en LINUX y Mac) o\n",
    "\n",
    "`activate diplomados` (en WINDOWS).\n",
    "\n",
    "Entonces estás listo (si estás atascado, echa un vistazo al [sitio de documentación de conda](https://conda.io/docs/user-guide/tasks/manage-environments.html#)). Alternativamente, puede iniciar [binder](https://binderhub.readthedocs.io/en/latest/) para obtener un entorno ejecutable reproducible inmediatamente en su navegador. Simplemente haga clic en el icono [_launch binder_]()."
   ]
  },
  {
   "cell_type": "markdown",
   "metadata": {
    "lang": "en"
   },
   "source": [
    "# Online repository\n",
    "\n",
    "[![Binder](https://mybinder.org/badge.svg)]()\n",
    "\n",
    "\n",
    "In order to re-run the analysis download the materials from the [online repository](https://github.com/eotp/diplomado-internacional-GIRH). \n",
    "\n",
    "We further encourage you to use the [conda](https://conda.io/docs/) package manager. Once installed, create an environment and install all required dependencies on your machine by typing \n",
    "\n",
    "`conda env create -f environment.yml`\n",
    "\n",
    "into your console. You activate your new environment by typing \n",
    "\n",
    "`source activate diplomados` (on LINUX and Mac) or\n",
    "\n",
    "`activate diplomados` (on WINDOWS). \n",
    "\n",
    "Then you are ready to go (if you are stuck check out the [conda documentation site](https://conda.io/docs/user-guide/tasks/manage-environments.html#)). Alternatively, you may launch [binder](https://binderhub.readthedocs.io/en/latest/) to get a reproducible executable environment immediately in your browser. Simply click the [_launch binder_]() icon in the upper left corner.\n",
    "\n"
   ]
  }
 ],
 "metadata": {
  "kernelspec": {
   "display_name": "Python 3",
   "language": "python",
   "name": "python3"
  },
  "language_info": {
   "codemirror_mode": {
    "name": "ipython",
    "version": 3
   },
   "file_extension": ".py",
   "mimetype": "text/x-python",
   "name": "python",
   "nbconvert_exporter": "python",
   "pygments_lexer": "ipython3",
   "version": "3.6.5"
  },
  "nbTranslate": {
   "displayLangs": [
    "es"
   ],
   "hotkey": "alt-t",
   "langInMainMenu": true,
   "sourceLang": "en",
   "targetLang": "es",
   "useGoogleTranslate": true
  }
 },
 "nbformat": 4,
 "nbformat_minor": 2
}
