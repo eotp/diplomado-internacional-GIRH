{
 "cells": [
  {
   "cell_type": "code",
   "execution_count": null,
   "metadata": {},
   "outputs": [],
   "source": [
    "%matplotlib inline\n",
    "import pandas as pd\n",
    "import numpy as np\n",
    "import matplotlib.pyplot as plt"
   ]
  },
  {
   "cell_type": "markdown",
   "metadata": {},
   "source": [
    "#  El Índice Oceánico de El Niño (ONI en inglés)"
   ]
  },
  {
   "cell_type": "markdown",
   "metadata": {
    "lang": "es"
   },
   "source": [
    "## Descargar los datos de internet"
   ]
  },
  {
   "cell_type": "markdown",
   "metadata": {
    "lang": "es"
   },
   "source": [
    "Página web: http://origin.cpc.ncep.noaa.gov/products/analysis_monitoring/ensostuff/ONI_v5.php\n",
    "\n",
    "Datos: https://www.esrl.noaa.gov/psd/data/correlation/oni.data"
   ]
  },
  {
   "cell_type": "markdown",
   "metadata": {
    "lang": "es"
   },
   "source": [
    "### Uso de pandas para descargar los datos de Internet"
   ]
  },
  {
   "cell_type": "code",
   "execution_count": null,
   "metadata": {},
   "outputs": [],
   "source": [
    "oni = pd.read_csv(\"https://www.esrl.noaa.gov/psd/data/correlation/oni.data\", skiprows=1, \n",
    "                  skipfooter=8, header=None, delim_whitespace=True, engine=\"python\")\n",
    "#oni.to_csv(\"./data<</oni.txt\", index=False)\n",
    "oni.head()"
   ]
  },
  {
   "cell_type": "markdown",
   "metadata": {},
   "source": [
    "In case you do not have an internet connection the ONI data set is stored in the folder `./data/oni.txt`"
   ]
  },
  {
   "cell_type": "code",
   "execution_count": null,
   "metadata": {},
   "outputs": [],
   "source": [
    "oni_raw = pd.read_csv(\"./data/oni.txt\")\n",
    "oni_raw.tail()"
   ]
  },
  {
   "cell_type": "markdown",
   "metadata": {
    "lang": "es"
   },
   "source": [
    "## Limpieza de datos"
   ]
  },
  {
   "cell_type": "code",
   "execution_count": null,
   "metadata": {},
   "outputs": [],
   "source": [
    "oni_raw = oni_raw.replace(-99.90, np.nan)\n",
    "oni_raw.tail()"
   ]
  },
  {
   "cell_type": "markdown",
   "metadata": {
    "lang": "es"
   },
   "source": [
    "## Formato ancho a largo"
   ]
  },
  {
   "cell_type": "code",
   "execution_count": null,
   "metadata": {},
   "outputs": [],
   "source": [
    "oni_melted = pd.melt(oni_raw, id_vars=\"0\", value_name=\"ONI\", var_name=\"Month\")\n",
    "oni_melted.tail()"
   ]
  },
  {
   "cell_type": "markdown",
   "metadata": {
    "lang": "es"
   },
   "source": [
    "## Añadir columna de fecha"
   ]
  },
  {
   "cell_type": "code",
   "execution_count": null,
   "metadata": {},
   "outputs": [],
   "source": [
    "oni_melted[\"Date\"] = oni_melted.apply(lambda x: pd.to_datetime(str(x[0]) +\"-\"+ str(x[\"Month\"])).to_period(\"M\"), axis=1)\n",
    "oni_melted.head()"
   ]
  },
  {
   "cell_type": "markdown",
   "metadata": {
    "lang": "es"
   },
   "source": [
    "## Subconjunto del conjunto de datos"
   ]
  },
  {
   "cell_type": "code",
   "execution_count": null,
   "metadata": {},
   "outputs": [],
   "source": [
    "oni = oni_melted[[\"Date\", \"ONI\"]].sort_values(\"Date\").set_index(\"Date\")\n",
    "oni.head()"
   ]
  },
  {
   "cell_type": "code",
   "execution_count": null,
   "metadata": {},
   "outputs": [],
   "source": [
    "oni = oni[\"2005\":\"2015\"]\n",
    "oni"
   ]
  },
  {
   "cell_type": "markdown",
   "metadata": {
    "lang": "es"
   },
   "source": [
    "## Trazar los datos"
   ]
  },
  {
   "cell_type": "code",
   "execution_count": null,
   "metadata": {},
   "outputs": [],
   "source": [
    "fig, ax = plt.subplots(figsize=(13,4))\n",
    "oni.plot(ax=ax, color=\"k\")\n",
    "ax.fill_between(oni.index, 0.5, oni.ONI, where=oni.ONI >= 0.5, color=\"red\", label=\"El Nino\", interpolate=True)\n",
    "ax.fill_between(oni.index, -0.5, oni.ONI, where=oni.ONI <= -0.5, color=\"blue\", label=\"La Nina\", interpolate=True)\n",
    "ax.grid()\n",
    "ax.legend()\n",
    "ax.set_ylim(-3,3)\n",
    "ax.set_title(\"Ocean Nino Index (ONI)\", size=14)\n",
    "ax.axvline(\"2012-8\", color=\"green\", linestyle=\"dashed\");"
   ]
  },
  {
   "cell_type": "markdown",
   "metadata": {
    "lang": "es"
   },
   "source": [
    "## Refactorización del código"
   ]
  },
  {
   "cell_type": "code",
   "execution_count": null,
   "metadata": {},
   "outputs": [],
   "source": [
    "# %load src/oni_plot.py\n",
    "def plot_oni(df, min_max = None, vline=None, ax=None):\n",
    "    \n",
    "    import pandas as pd\n",
    "    import matplotlib.pyplot as plt\n",
    "    \n",
    "    if ax is None:\n",
    "        fig, ax = plt.subplots(figsize=(13,4))\n",
    "    \n",
    "    oni_melted = pd.melt(df, id_vars=\"0\", value_name=\"ONI\", var_name=\"Month\")\n",
    "    oni_melted[\"Date\"] = oni_melted.apply(lambda x: pd.to_datetime(str(x[0]) +\"-\"+ str(x[\"Month\"])).to_period(\"M\"), axis=1)\n",
    "    oni = oni_melted[[\"Date\", \"ONI\"]].sort_values(\"Date\").reset_index(drop=True).set_index(\"Date\")\n",
    "    if min_max is not None:\n",
    "        oni = oni[str(min_max[0]):str(min_max[1])]        \n",
    "\n",
    "    oni.plot(ax=ax, color=\"k\")\n",
    "    ax.fill_between(oni.index, 0.5, oni.ONI, where=oni.ONI >= 0.5,color=\"red\", label=\"El Nino\", interpolate=True)\n",
    "    ax.fill_between(oni.index, -0.5, oni.ONI, where=oni.ONI <= -0.5,color=\"blue\", label=\"La Nina\", interpolate=True)\n",
    "    ax.grid()\n",
    "    ax.legend()\n",
    "    ax.set_ylim(-3,3)\n",
    "    ax.set_title(\"Ocean Nino Index (ONI)\", size=14)\n",
    "    \n",
    "    if vline is not None:\n",
    "        ax.axvline(str(vline), color=\"green\", linestyle=\"dashed\");\n",
    "        "
   ]
  },
  {
   "cell_type": "code",
   "execution_count": null,
   "metadata": {},
   "outputs": [],
   "source": [
    "oni = pd.read_csv(\"./data/oni.txt\")\n",
    "#oni"
   ]
  },
  {
   "cell_type": "code",
   "execution_count": null,
   "metadata": {},
   "outputs": [],
   "source": [
    "oni = pd.read_csv(\"./data/oni.txt\")\n",
    "plot_oni(oni)"
   ]
  },
  {
   "cell_type": "code",
   "execution_count": null,
   "metadata": {},
   "outputs": [],
   "source": [
    "plot_oni(oni, min_max = [2000, 2015])"
   ]
  },
  {
   "cell_type": "code",
   "execution_count": null,
   "metadata": {},
   "outputs": [],
   "source": [
    "plot_oni(oni, min_max = [2000, 2015], vline=\"2005-1\")"
   ]
  }
 ],
 "metadata": {
  "kernelspec": {
   "display_name": "Python 3",
   "language": "python",
   "name": "python3"
  },
  "language_info": {
   "codemirror_mode": {
    "name": "ipython",
    "version": 3
   },
   "file_extension": ".py",
   "mimetype": "text/x-python",
   "name": "python",
   "nbconvert_exporter": "python",
   "pygments_lexer": "ipython3",
   "version": "3.6.5"
  },
  "nbTranslate": {
   "displayLangs": [
    "es"
   ],
   "hotkey": "alt-t",
   "langInMainMenu": true,
   "sourceLang": "en",
   "targetLang": "es",
   "useGoogleTranslate": true
  }
 },
 "nbformat": 4,
 "nbformat_minor": 2
}
